{
 "cells": [
  {
   "cell_type": "code",
   "execution_count": 1,
   "metadata": {},
   "outputs": [],
   "source": [
    "# imports\n",
    "import pandas as pd\n",
    "import numpy as np\n",
    "import os\n",
    "import requests\n",
    "import json"
   ]
  },
  {
   "cell_type": "markdown",
   "metadata": {},
   "source": [
    "# Foursquare"
   ]
  },
  {
   "cell_type": "markdown",
   "metadata": {},
   "source": [
    "Send a request to Foursquare with a small radius (1000m) for all the bike stations in your city of choice. "
   ]
  },
  {
   "cell_type": "code",
   "execution_count": 7,
   "metadata": {},
   "outputs": [],
   "source": [
    "class foursquare_api_request:\n",
    "    \"\"\"\n",
    "    Get a list of parameters to construct api request\n",
    "    \"\"\"\n",
    "    def __init__(self, api_key, category, search_limit, ll):\n",
    "        self.api_key = api_key\n",
    "        self.category = category\n",
    "        self.search_limit = search_limit\n",
    "        self.ll = ll\n",
    "\n",
    "    def request(self, url_params=None):\n",
    "        \"\"\"Given your API_KEY, send a GET request to the API.\n",
    "        Args:\n",
    "            api_host (str): The host site to\n",
    "            api_key (str): Your API Key.\n",
    "            url_params (dict): An optional set of query parameters in the request.\n",
    "        Returns:\n",
    "            dict: The JSON response from the request.\n",
    "        \"\"\"\n",
    "        url = \"https://api.foursquare.com/v3/places/search\"\n",
    "        headers = {\n",
    "            \"Accept\": \"application/json\",\n",
    "            'Authorization': self.api_key,\n",
    "        }\n",
    "        response = requests.get(url=url, headers=headers, params=url_params)\n",
    "        return response.json()\n",
    "\n",
    "    def search(self):\n",
    "        \"\"\"Query the Search API by a search term and location.\n",
    "        Returns:\n",
    "            dict: The JSON response from the request.\n",
    "        \"\"\"\n",
    "        url_params = {\n",
    "            'categories': self.category,\n",
    "            'll': self.ll,\n",
    "            'radius': 1000,\n",
    "            'limit': self.search_limit\n",
    "        }\n",
    "        return self.request(url_params=url_params)\n"
   ]
  },
  {
   "cell_type": "code",
   "execution_count": 2,
   "metadata": {},
   "outputs": [],
   "source": [
    "#set the keys\n",
    "foursquare_id = os.environ[\"Foursquare_API\"]"
   ]
  },
  {
   "cell_type": "code",
   "execution_count": 12,
   "metadata": {},
   "outputs": [
    {
     "ename": "AttributeError",
     "evalue": "'dict' object has no attribute 'json'",
     "output_type": "error",
     "traceback": [
      "\u001b[1;31m---------------------------------------------------------------------------\u001b[0m",
      "\u001b[1;31mAttributeError\u001b[0m                            Traceback (most recent call last)",
      "\u001b[1;32m~\\AppData\\Local\\Temp\\ipykernel_18228\\2834764842.py\u001b[0m in \u001b[0;36m<module>\u001b[1;34m\u001b[0m\n\u001b[0;32m      4\u001b[0m \u001b[1;33m\u001b[0m\u001b[0m\n\u001b[0;32m      5\u001b[0m \u001b[0mresponse\u001b[0m \u001b[1;33m=\u001b[0m \u001b[0mfoursquare_api_request\u001b[0m\u001b[1;33m(\u001b[0m\u001b[0mfoursquare_id\u001b[0m\u001b[1;33m,\u001b[0m \u001b[0mCATEGORYID\u001b[0m\u001b[1;33m,\u001b[0m \u001b[0mSEARCH_LIMIT\u001b[0m\u001b[1;33m,\u001b[0m \u001b[0mll\u001b[0m\u001b[1;33m)\u001b[0m\u001b[1;33m.\u001b[0m\u001b[0msearch\u001b[0m\u001b[1;33m(\u001b[0m\u001b[1;33m)\u001b[0m\u001b[1;33m\u001b[0m\u001b[1;33m\u001b[0m\u001b[0m\n\u001b[1;32m----> 6\u001b[1;33m \u001b[0mres_json\u001b[0m \u001b[1;33m=\u001b[0m \u001b[0mresponse\u001b[0m\u001b[1;33m.\u001b[0m\u001b[0mjson\u001b[0m\u001b[1;33m(\u001b[0m\u001b[1;33m)\u001b[0m\u001b[1;33m\u001b[0m\u001b[1;33m\u001b[0m\u001b[0m\n\u001b[0m",
      "\u001b[1;31mAttributeError\u001b[0m: 'dict' object has no attribute 'json'"
     ]
    }
   ],
   "source": [
    "CATEGORYID = 16000 # 16000 is Landmarks and Outdoors\n",
    "ll = \"43.665269,-79.319796\" # This is the first location of the bikes.csv df\n",
    "SEARCH_LIMIT = 10\n",
    "\n",
    "response = foursquare_api_request(foursquare_id, CATEGORYID, SEARCH_LIMIT, ll).search()"
   ]
  },
  {
   "cell_type": "code",
   "execution_count": 16,
   "metadata": {},
   "outputs": [
    {
     "data": {
      "text/plain": [
       "{'fsq_id': '4baa029cf964a52085433ae3',\n",
       " 'categories': [{'id': 16032,\n",
       "   'name': 'Park',\n",
       "   'icon': {'prefix': 'https://ss3.4sqi.net/img/categories_v2/parks_outdoors/park_',\n",
       "    'suffix': '.png'}},\n",
       "  {'id': 18000,\n",
       "   'name': 'Sports and Recreation',\n",
       "   'icon': {'prefix': 'https://ss3.4sqi.net/img/categories_v2/shops/sports_outdoors_',\n",
       "    'suffix': '.png'}}],\n",
       " 'chains': [],\n",
       " 'distance': 379,\n",
       " 'geocodes': {'main': {'latitude': 43.662892, 'longitude': -79.312532}},\n",
       " 'link': '/v3/places/4baa029cf964a52085433ae3',\n",
       " 'location': {'address': 'Queen St',\n",
       "  'country': 'CA',\n",
       "  'cross_street': 'at Kingston Rd',\n",
       "  'formatted_address': 'Queen St (at Kingston Rd), Toronto ON M4L 1G7',\n",
       "  'locality': 'Toronto',\n",
       "  'postcode': 'M4L 1G7',\n",
       "  'region': 'ON'},\n",
       " 'name': 'Woodbine Park',\n",
       " 'related_places': {'children': [{'fsq_id': '59446319f2905e37c0e0abf7',\n",
       "    'name': 'Northern Heat Toronto Beaches Rib & Beer Festival'}]},\n",
       " 'timezone': 'America/Toronto'}"
      ]
     },
     "execution_count": 16,
     "metadata": {},
     "output_type": "execute_result"
    }
   ],
   "source": [
    "response['results'][0]"
   ]
  },
  {
   "cell_type": "code",
   "execution_count": null,
   "metadata": {},
   "outputs": [],
   "source": []
  },
  {
   "cell_type": "markdown",
   "metadata": {},
   "source": [
    "Parse through the response to get the POI (such as restaurants, bars, etc) details you want (ratings, name, location, etc)"
   ]
  },
  {
   "cell_type": "code",
   "execution_count": null,
   "metadata": {},
   "outputs": [],
   "source": []
  },
  {
   "cell_type": "markdown",
   "metadata": {},
   "source": [
    "Put your parsed results into a DataFrame"
   ]
  },
  {
   "cell_type": "code",
   "execution_count": null,
   "metadata": {},
   "outputs": [],
   "source": []
  },
  {
   "cell_type": "markdown",
   "metadata": {},
   "source": [
    "# Yelp"
   ]
  },
  {
   "cell_type": "markdown",
   "metadata": {},
   "source": [
    "Send a request to Yelp with a small radius (1000m) for all the bike stations in your city of choice. "
   ]
  },
  {
   "cell_type": "code",
   "execution_count": null,
   "metadata": {},
   "outputs": [],
   "source": []
  },
  {
   "cell_type": "markdown",
   "metadata": {},
   "source": [
    "Parse through the response to get the POI (such as restaurants, bars, etc) details you want (ratings, name, location, etc)"
   ]
  },
  {
   "cell_type": "code",
   "execution_count": null,
   "metadata": {},
   "outputs": [],
   "source": []
  },
  {
   "cell_type": "markdown",
   "metadata": {},
   "source": [
    "Put your parsed results into a DataFrame"
   ]
  },
  {
   "cell_type": "markdown",
   "metadata": {},
   "source": []
  },
  {
   "cell_type": "markdown",
   "metadata": {},
   "source": [
    "# Comparing Results"
   ]
  },
  {
   "cell_type": "markdown",
   "metadata": {},
   "source": [
    "Which API provided you with more complete data? Provide an explanation. "
   ]
  },
  {
   "cell_type": "markdown",
   "metadata": {},
   "source": []
  },
  {
   "cell_type": "markdown",
   "metadata": {},
   "source": [
    "Get the top 10 restaurants according to their rating"
   ]
  },
  {
   "cell_type": "code",
   "execution_count": null,
   "metadata": {},
   "outputs": [],
   "source": []
  }
 ],
 "metadata": {
  "kernelspec": {
   "display_name": "Python 3",
   "language": "python",
   "name": "python3"
  },
  "language_info": {
   "codemirror_mode": {
    "name": "ipython",
    "version": 3
   },
   "file_extension": ".py",
   "mimetype": "text/x-python",
   "name": "python",
   "nbconvert_exporter": "python",
   "pygments_lexer": "ipython3",
   "version": "3.9.13"
  }
 },
 "nbformat": 4,
 "nbformat_minor": 4
}
