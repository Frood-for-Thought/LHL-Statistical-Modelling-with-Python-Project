{
 "cells": [
  {
   "cell_type": "code",
   "execution_count": 1,
   "metadata": {},
   "outputs": [],
   "source": [
    "# imports\n",
    "import pandas as pd\n",
    "import numpy as np\n",
    "import os\n",
    "import requests\n",
    "import json"
   ]
  },
  {
   "cell_type": "markdown",
   "metadata": {},
   "source": [
    "# Foursquare"
   ]
  },
  {
   "cell_type": "markdown",
   "metadata": {},
   "source": [
    "Send a request to Foursquare with a small radius (1000m) for all the bike stations in your city of choice. "
   ]
  },
  {
   "cell_type": "code",
   "execution_count": null,
   "metadata": {},
   "outputs": [],
   "source": [
    "class foursquare_api_request:\n",
    "    \"\"\"\n",
    "    Get a list of parameters to construct api request\n",
    "    \"\"\"\n",
    "    def __init__(self, api_key, category, location, search_limit, ll):\n",
    "        self.api_key = api_key\n",
    "        self.api_host = \"https://api.foursquare.com/v3/places/search\"\n",
    "        self.category = category\n",
    "        self.location = location\n",
    "        self.search_limit = search_limit\n",
    "        self.ll = ll\n",
    "\n",
    "    def request(self, url_params=None):\n",
    "        \"\"\"Given your API_KEY, send a GET request to the API.\n",
    "        Args:\n",
    "            api_host (str): The host site to\n",
    "            api_key (str): Your API Key.\n",
    "            url_params (dict): An optional set of query parameters in the request.\n",
    "        Returns:\n",
    "            dict: The JSON response from the request.\n",
    "        \"\"\"\n",
    "        headers = {\n",
    "            \"Accept\": \"application/json\",\n",
    "            'Authorization': self.api_key,\n",
    "        }\n",
    "        response = requests.request(url=self.api_host, headers=headers, params=url_params)\n",
    "        return response.json()\n",
    "\n",
    "    def search(self):\n",
    "        \"\"\"Query the Search API by a search term and location.\n",
    "        Returns:\n",
    "            dict: The JSON response from the request.\n",
    "        \"\"\"\n",
    "        url_params = {\n",
    "            'categories': self.category,\n",
    "            'll': self.ll,\n",
    "            'radius': 1000,\n",
    "            'limit': self.search_limit\n",
    "        }\n",
    "        return self.request(url_params=url_params)\n"
   ]
  },
  {
   "cell_type": "markdown",
   "metadata": {},
   "source": [
    "Parse through the response to get the POI (such as restaurants, bars, etc) details you want (ratings, name, location, etc)"
   ]
  },
  {
   "cell_type": "code",
   "execution_count": null,
   "metadata": {},
   "outputs": [],
   "source": []
  },
  {
   "cell_type": "markdown",
   "metadata": {},
   "source": [
    "Put your parsed results into a DataFrame"
   ]
  },
  {
   "cell_type": "code",
   "execution_count": null,
   "metadata": {},
   "outputs": [],
   "source": []
  },
  {
   "cell_type": "markdown",
   "metadata": {},
   "source": [
    "# Yelp"
   ]
  },
  {
   "cell_type": "markdown",
   "metadata": {},
   "source": [
    "Send a request to Yelp with a small radius (1000m) for all the bike stations in your city of choice. "
   ]
  },
  {
   "cell_type": "code",
   "execution_count": null,
   "metadata": {},
   "outputs": [],
   "source": []
  },
  {
   "cell_type": "markdown",
   "metadata": {},
   "source": [
    "Parse through the response to get the POI (such as restaurants, bars, etc) details you want (ratings, name, location, etc)"
   ]
  },
  {
   "cell_type": "code",
   "execution_count": null,
   "metadata": {},
   "outputs": [],
   "source": []
  },
  {
   "cell_type": "markdown",
   "metadata": {},
   "source": [
    "Put your parsed results into a DataFrame"
   ]
  },
  {
   "cell_type": "markdown",
   "metadata": {},
   "source": []
  },
  {
   "cell_type": "markdown",
   "metadata": {},
   "source": [
    "# Comparing Results"
   ]
  },
  {
   "cell_type": "markdown",
   "metadata": {},
   "source": [
    "Which API provided you with more complete data? Provide an explanation. "
   ]
  },
  {
   "cell_type": "markdown",
   "metadata": {},
   "source": []
  },
  {
   "cell_type": "markdown",
   "metadata": {},
   "source": [
    "Get the top 10 restaurants according to their rating"
   ]
  },
  {
   "cell_type": "code",
   "execution_count": null,
   "metadata": {},
   "outputs": [],
   "source": []
  }
 ],
 "metadata": {
  "kernelspec": {
   "display_name": "Python 3",
   "language": "python",
   "name": "python3"
  },
  "language_info": {
   "codemirror_mode": {
    "name": "ipython",
    "version": 3
   },
   "file_extension": ".py",
   "mimetype": "text/x-python",
   "name": "python",
   "nbconvert_exporter": "python",
   "pygments_lexer": "ipython3",
   "version": "3.9.13"
  }
 },
 "nbformat": 4,
 "nbformat_minor": 4
}
